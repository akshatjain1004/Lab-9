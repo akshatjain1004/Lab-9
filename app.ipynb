{
 "cells": [
  {
   "cell_type": "code",
   "execution_count": 1,
   "metadata": {},
   "outputs": [
    {
     "name": "stdout",
     "output_type": "stream",
     "text": [
      "Requirement already satisfied: yfinance in c:\\users\\admin\\anaconda3\\lib\\site-packages (0.2.18)\n",
      "Requirement already satisfied: beautifulsoup4>=4.11.1 in c:\\users\\admin\\anaconda3\\lib\\site-packages (from yfinance) (4.12.2)\n",
      "Requirement already satisfied: appdirs>=1.4.4 in c:\\users\\admin\\anaconda3\\lib\\site-packages (from yfinance) (1.4.4)\n",
      "Requirement already satisfied: multitasking>=0.0.7 in c:\\users\\admin\\anaconda3\\lib\\site-packages (from yfinance) (0.0.11)\n",
      "Requirement already satisfied: pytz>=2022.5 in c:\\users\\admin\\anaconda3\\lib\\site-packages (from yfinance) (2023.3)\n",
      "Requirement already satisfied: requests>=2.26 in c:\\users\\admin\\anaconda3\\lib\\site-packages (from yfinance) (2.29.0)\n",
      "Requirement already satisfied: html5lib>=1.1 in c:\\users\\admin\\anaconda3\\lib\\site-packages (from yfinance) (1.1)\n",
      "Requirement already satisfied: frozendict>=2.3.4 in c:\\users\\admin\\anaconda3\\lib\\site-packages (from yfinance) (2.3.8)\n",
      "Requirement already satisfied: pandas>=1.3.0 in c:\\users\\admin\\anaconda3\\lib\\site-packages (from yfinance) (2.0.1)\n",
      "Requirement already satisfied: cryptography>=3.3.2 in c:\\users\\admin\\anaconda3\\lib\\site-packages (from yfinance) (3.4.7)\n",
      "Requirement already satisfied: numpy>=1.16.5 in c:\\users\\admin\\anaconda3\\lib\\site-packages (from yfinance) (1.24.3)\n",
      "Requirement already satisfied: lxml>=4.9.1 in c:\\users\\admin\\anaconda3\\lib\\site-packages (from yfinance) (4.9.2)\n",
      "Requirement already satisfied: soupsieve>1.2 in c:\\users\\admin\\anaconda3\\lib\\site-packages (from beautifulsoup4>=4.11.1->yfinance) (2.2.1)\n",
      "Requirement already satisfied: cffi>=1.12 in c:\\users\\admin\\anaconda3\\lib\\site-packages (from cryptography>=3.3.2->yfinance) (1.14.5)\n",
      "Requirement already satisfied: pycparser in c:\\users\\admin\\anaconda3\\lib\\site-packages (from cffi>=1.12->cryptography>=3.3.2->yfinance) (2.20)\n",
      "Requirement already satisfied: six>=1.9 in c:\\users\\admin\\anaconda3\\lib\\site-packages (from html5lib>=1.1->yfinance) (1.15.0)\n",
      "Requirement already satisfied: webencodings in c:\\users\\admin\\anaconda3\\lib\\site-packages (from html5lib>=1.1->yfinance) (0.5.1)\n",
      "Requirement already satisfied: python-dateutil>=2.8.2 in c:\\users\\admin\\anaconda3\\lib\\site-packages (from pandas>=1.3.0->yfinance) (2.8.2)\n",
      "Requirement already satisfied: tzdata>=2022.1 in c:\\users\\admin\\anaconda3\\lib\\site-packages (from pandas>=1.3.0->yfinance) (2023.3)\n",
      "Requirement already satisfied: charset-normalizer<4,>=2 in c:\\users\\admin\\anaconda3\\lib\\site-packages (from requests>=2.26->yfinance) (3.1.0)\n",
      "Requirement already satisfied: certifi>=2017.4.17 in c:\\users\\admin\\anaconda3\\lib\\site-packages (from requests>=2.26->yfinance) (2020.12.5)\n",
      "Requirement already satisfied: urllib3<1.27,>=1.21.1 in c:\\users\\admin\\anaconda3\\lib\\site-packages (from requests>=2.26->yfinance) (1.26.4)\n",
      "Requirement already satisfied: idna<4,>=2.5 in c:\\users\\admin\\anaconda3\\lib\\site-packages (from requests>=2.26->yfinance) (2.10)\n",
      "Note: you may need to restart the kernel to use updated packages.\n",
      "Requirement already satisfied: Flask in c:\\users\\admin\\anaconda3\\lib\\site-packages (2.3.2)\n",
      "Requirement already satisfied: click>=8.1.3 in c:\\users\\admin\\anaconda3\\lib\\site-packages (from Flask) (8.1.3)\n",
      "Requirement already satisfied: blinker>=1.6.2 in c:\\users\\admin\\anaconda3\\lib\\site-packages (from Flask) (1.6.2)\n",
      "Requirement already satisfied: Werkzeug>=2.3.3 in c:\\users\\admin\\anaconda3\\lib\\site-packages (from Flask) (2.3.3)\n",
      "Requirement already satisfied: importlib-metadata>=3.6.0 in c:\\users\\admin\\anaconda3\\lib\\site-packages (from Flask) (3.10.0)\n",
      "Requirement already satisfied: itsdangerous>=2.1.2 in c:\\users\\admin\\anaconda3\\lib\\site-packages (from Flask) (2.1.2)\n",
      "Requirement already satisfied: Jinja2>=3.1.2 in c:\\users\\admin\\anaconda3\\lib\\site-packages (from Flask) (3.1.2)\n",
      "Requirement already satisfied: colorama in c:\\users\\admin\\anaconda3\\lib\\site-packages (from click>=8.1.3->Flask) (0.4.4)\n",
      "Requirement already satisfied: zipp>=0.5 in c:\\users\\admin\\anaconda3\\lib\\site-packages (from importlib-metadata>=3.6.0->Flask) (3.4.1)\n",
      "Requirement already satisfied: MarkupSafe>=2.0 in c:\\users\\admin\\anaconda3\\lib\\site-packages (from Jinja2>=3.1.2->Flask) (2.1.2)\n",
      "Note: you may need to restart the kernel to use updated packages.\n",
      "Requirement already satisfied: Werkzeug in c:\\users\\admin\\anaconda3\\lib\\site-packages (2.3.3)\n",
      "Requirement already satisfied: MarkupSafe>=2.1.1 in c:\\users\\admin\\anaconda3\\lib\\site-packages (from Werkzeug) (2.1.2)\n",
      "Note: you may need to restart the kernel to use updated packages.\n",
      "Requirement already satisfied: watchdog in c:\\users\\admin\\anaconda3\\lib\\site-packages (3.0.0)\n",
      "Note: you may need to restart the kernel to use updated packages.\n"
     ]
    }
   ],
   "source": [
    "%pip install yfinance \n",
    "%pip install --upgrade Flask\n",
    "%pip install --upgrade Werkzeug\n",
    "%pip install --upgrade watchdog"
   ]
  },
  {
   "cell_type": "code",
   "execution_count": 2,
   "metadata": {},
   "outputs": [
    {
     "name": "stderr",
     "output_type": "stream",
     "text": [
      "<ipython-input-2-1ab714509076>:3: UserWarning: \n",
      "The dash_core_components package is deprecated. Please replace\n",
      "`import dash_core_components as dcc` with `from dash import dcc`\n",
      "  import dash_core_components as dcc\n",
      "<ipython-input-2-1ab714509076>:4: UserWarning: \n",
      "The dash_html_components package is deprecated. Please replace\n",
      "`import dash_html_components as html` with `from dash import html`\n",
      "  import dash_html_components as html\n"
     ]
    }
   ],
   "source": [
    "import yfinance as yf\n",
    "import dash\n",
    "import dash_core_components as dcc\n",
    "import dash_html_components as html\n",
    "from dash.dependencies import Input, Output"
   ]
  },
  {
   "cell_type": "code",
   "execution_count": 3,
   "metadata": {},
   "outputs": [],
   "source": [
    "stock_data = yf.Ticker(\"AAPL\").history(period=\"max\")\n"
   ]
  },
  {
   "cell_type": "code",
   "execution_count": 8,
   "metadata": {},
   "outputs": [],
   "source": [
    "app = dash.Dash(__name__)\n",
    "@app.callback(\n",
    "    Output('example-graph', 'figure'),\n",
    "    Input('dropdown', 'value')\n",
    ")\n",
    "def update_figure(value):\n",
    "    stock_data = yf.Ticker(value).history(period=\"max\")\n",
    "    fig = {\n",
    "        'data': [\n",
    "            {'x': stock_data.index, 'y': stock_data['Close'], 'type': 'line', 'name': 'Close'},\n",
    "        ],\n",
    "        'layout': {\n",
    "            'title': value + ' Stock Price'\n",
    "        }\n",
    "    }\n",
    "    return fig\n",
    "\n",
    "app.layout = html.Div(children=[\n",
    "    html.H1(children='Stock Price Dashboard'),\n",
    "    dcc.Dropdown(\n",
    "        id='dropdown',\n",
    "        options=[\n",
    "            {'label': 'Apple', 'value': 'AAPL'},\n",
    "            {'label': 'Amazon', 'value': 'AMZN'},\n",
    "            {'label': 'Microsoft', 'value': 'MSFT'}\n",
    "        ],\n",
    "        value='AAPL'\n",
    "    ),\n",
    "    dcc.Graph(\n",
    "        id='example-graph',\n",
    "        figure={\n",
    "            'data': [\n",
    "                {'x': stock_data.index, 'y': stock_data['Close'], 'type': 'line', 'name': 'Close'},\n",
    "            ],\n",
    "            'layout': {\n",
    "                'title': 'AAPL Stock Price'\n",
    "            }\n",
    "        }\n",
    "    )\n",
    "])\n"
   ]
  },
  {
   "cell_type": "code",
   "execution_count": 9,
   "metadata": {},
   "outputs": [
    {
     "name": "stdout",
     "output_type": "stream",
     "text": [
      "Dash is running on http://127.0.0.1:8050/\n",
      "\n",
      " * Serving Flask app '__main__'\n",
      " * Debug mode: off\n"
     ]
    }
   ],
   "source": [
    "if __name__ == '__main__':\n",
    "    app.run_server()\n"
   ]
  },
  {
   "cell_type": "code",
   "execution_count": 12,
   "metadata": {},
   "outputs": [],
   "source": [
    "import yfinance as yf\n",
    "import dash\n",
    "import dash_core_components as dcc\n",
    "import dash_html_components as html\n",
    "from dash.dependencies import Input, Output\n",
    "import plotly.graph_objects as go\n",
    "\n",
    "app = dash.Dash(__name__)\n",
    "\n",
    "def get_stock_data(value):\n",
    "    return yf.Ticker(value).history(period=\"max\")\n",
    "\n",
    "def generate_stock_chart(stock_data):\n",
    "    ma_short = stock_data['Close'].rolling(window=20).mean()\n",
    "    ma_long = stock_data['Close'].rolling(window=50).mean()\n",
    "\n",
    "    fig = {\n",
    "        'data': [\n",
    "            {'x': stock_data.index, 'y': stock_data['Close'], 'type': 'line', 'name': 'Close'},\n",
    "            {'x': stock_data.index, 'y': ma_short, 'type': 'line', 'name': 'MA (20)'},\n",
    "            {'x': stock_data.index, 'y': ma_long, 'type': 'line', 'name': 'MA (50)'},\n",
    "            {'x': stock_data.index, 'y': stock_data['Volume'], 'type': 'bar', 'name': 'Volume'},\n",
    "        ],\n",
    "        'layout': {\n",
    "            'title':' Stock Price and Moving Averages',\n",
    "            'yaxis': {'title': 'Price'},\n",
    "            'yaxis2': {'title': 'Volume', 'overlaying': 'y', 'side': 'right'},\n",
    "        }\n",
    "    }\n",
    "\n",
    "    return fig\n",
    "\n",
    "@app.callback(\n",
    "    Output('example-graph', 'figure'),\n",
    "    Input('dropdown', 'value')\n",
    ")\n",
    "def update_figure(value):\n",
    "    stock_data = get_stock_data(value)\n",
    "    fig = generate_stock_chart(stock_data)\n",
    "    return fig\n",
    "\n",
    "@app.callback(\n",
    "    Output('candlestick-chart', 'figure'),\n",
    "    Input('dropdown', 'value')\n",
    ")\n",
    "def update_candlestick_chart(value):\n",
    "    stock_data = get_stock_data(value)\n",
    "    fig = go.Figure(data=[go.Candlestick(x=stock_data.index,\n",
    "                                          open=stock_data['Open'],\n",
    "                                          high=stock_data['High'],\n",
    "                                          low=stock_data['Low'],\n",
    "                                          close=stock_data['Close'])])\n",
    "    fig.update_layout(title=value + ' Stock Price (Candlestick)')\n",
    "    return fig\n",
    "\n",
    "\n"
   ]
  },
  {
   "cell_type": "code",
   "execution_count": 13,
   "metadata": {},
   "outputs": [
    {
     "name": "stdout",
     "output_type": "stream",
     "text": [
      "Dash is running on http://127.0.0.1:8050/\n",
      "\n",
      " * Serving Flask app '__main__'\n",
      " * Debug mode: off\n"
     ]
    }
   ],
   "source": [
    "app.layout = html.Div(children=[\n",
    "    html.H1(children='Stock Price Dashboard'),\n",
    "    dcc.Dropdown(\n",
    "    id='dropdown',\n",
    "    options=[\n",
    "    {'label': 'Apple', 'value': 'AAPL'},\n",
    "    {'label': 'Amazon', 'value': 'AMZN'},\n",
    "    {'label': 'Microsoft', 'value': 'MSFT'}\n",
    "    ],\n",
    "    value='AAPL'\n",
    "    ),\n",
    "    html.Div([\n",
    "    dcc.Graph(\n",
    "    id='example-graph'\n",
    "    ),\n",
    "    dcc.Graph(\n",
    "    id='candlestick-chart'\n",
    "    ) ], style={'display': 'flex', 'flex-direction': 'row', 'justify-content': 'space-between', 'margin-top': '30px'}),\n",
    "    ])\n",
    "\n",
    "if __name__ == '__main__':\n",
    "    app.run_server()\n",
    "\n",
    "\n",
    "\n",
    "\n",
    "\n",
    "\n",
    "\n"
   ]
  }
 ],
 "metadata": {
  "kernelspec": {
   "display_name": "base",
   "language": "python",
   "name": "python3"
  },
  "language_info": {
   "codemirror_mode": {
    "name": "ipython",
    "version": 3
   },
   "file_extension": ".py",
   "mimetype": "text/x-python",
   "name": "python",
   "nbconvert_exporter": "python",
   "pygments_lexer": "ipython3",
   "version": "3.8.8"
  },
  "orig_nbformat": 4
 },
 "nbformat": 4,
 "nbformat_minor": 2
}
